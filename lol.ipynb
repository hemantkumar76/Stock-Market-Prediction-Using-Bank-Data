{
 "cells": [
  {
   "cell_type": "code",
   "execution_count": 38,
   "metadata": {},
   "outputs": [],
   "source": [
    "import numpy as np\n",
    "from tensorflow.python import keras\n",
    "from tensorflow.python.keras import layers\n",
    "from tensorflow.python.keras import models\n",
    "from tensorflow.python.keras import losses\n",
    "from tensorflow.python.keras import optimizers\n",
    "from tensorflow.python.keras import activations\n",
    "from tensorflow.python.keras import layers\n",
    "import pandas as pd\n",
    "import numpy as np\n"
   ]
  },
  {
   "cell_type": "code",
   "execution_count": 5,
   "outputs": [
    {
     "data": {
      "text/plain": "    mpg  cylinders  displacement horsepower  weight  acceleration  model year  \\\n0  18.0          8         307.0        130    3504          12.0          70   \n1  15.0          8         350.0        165    3693          11.5          70   \n2  18.0          8         318.0        150    3436          11.0          70   \n3  16.0          8         304.0        150    3433          12.0          70   \n4  17.0          8         302.0        140    3449          10.5          70   \n5  15.0          8         429.0        198    4341          10.0          70   \n6  14.0          8         454.0        220    4354           9.0          70   \n7  14.0          8         440.0        215    4312           8.5          70   \n8  14.0          8         455.0        225    4425          10.0          70   \n9  15.0          8         390.0        190    3850           8.5          70   \n\n   origin                   car name  \n0       1  chevrolet chevelle malibu  \n1       1          buick skylark 320  \n2       1         plymouth satellite  \n3       1              amc rebel sst  \n4       1                ford torino  \n5       1           ford galaxie 500  \n6       1           chevrolet impala  \n7       1          plymouth fury iii  \n8       1           pontiac catalina  \n9       1         amc ambassador dpl  ",
      "text/html": "<div>\n<style scoped>\n    .dataframe tbody tr th:only-of-type {\n        vertical-align: middle;\n    }\n\n    .dataframe tbody tr th {\n        vertical-align: top;\n    }\n\n    .dataframe thead th {\n        text-align: right;\n    }\n</style>\n<table border=\"1\" class=\"dataframe\">\n  <thead>\n    <tr style=\"text-align: right;\">\n      <th></th>\n      <th>mpg</th>\n      <th>cylinders</th>\n      <th>displacement</th>\n      <th>horsepower</th>\n      <th>weight</th>\n      <th>acceleration</th>\n      <th>model year</th>\n      <th>origin</th>\n      <th>car name</th>\n    </tr>\n  </thead>\n  <tbody>\n    <tr>\n      <th>0</th>\n      <td>18.0</td>\n      <td>8</td>\n      <td>307.0</td>\n      <td>130</td>\n      <td>3504</td>\n      <td>12.0</td>\n      <td>70</td>\n      <td>1</td>\n      <td>chevrolet chevelle malibu</td>\n    </tr>\n    <tr>\n      <th>1</th>\n      <td>15.0</td>\n      <td>8</td>\n      <td>350.0</td>\n      <td>165</td>\n      <td>3693</td>\n      <td>11.5</td>\n      <td>70</td>\n      <td>1</td>\n      <td>buick skylark 320</td>\n    </tr>\n    <tr>\n      <th>2</th>\n      <td>18.0</td>\n      <td>8</td>\n      <td>318.0</td>\n      <td>150</td>\n      <td>3436</td>\n      <td>11.0</td>\n      <td>70</td>\n      <td>1</td>\n      <td>plymouth satellite</td>\n    </tr>\n    <tr>\n      <th>3</th>\n      <td>16.0</td>\n      <td>8</td>\n      <td>304.0</td>\n      <td>150</td>\n      <td>3433</td>\n      <td>12.0</td>\n      <td>70</td>\n      <td>1</td>\n      <td>amc rebel sst</td>\n    </tr>\n    <tr>\n      <th>4</th>\n      <td>17.0</td>\n      <td>8</td>\n      <td>302.0</td>\n      <td>140</td>\n      <td>3449</td>\n      <td>10.5</td>\n      <td>70</td>\n      <td>1</td>\n      <td>ford torino</td>\n    </tr>\n    <tr>\n      <th>5</th>\n      <td>15.0</td>\n      <td>8</td>\n      <td>429.0</td>\n      <td>198</td>\n      <td>4341</td>\n      <td>10.0</td>\n      <td>70</td>\n      <td>1</td>\n      <td>ford galaxie 500</td>\n    </tr>\n    <tr>\n      <th>6</th>\n      <td>14.0</td>\n      <td>8</td>\n      <td>454.0</td>\n      <td>220</td>\n      <td>4354</td>\n      <td>9.0</td>\n      <td>70</td>\n      <td>1</td>\n      <td>chevrolet impala</td>\n    </tr>\n    <tr>\n      <th>7</th>\n      <td>14.0</td>\n      <td>8</td>\n      <td>440.0</td>\n      <td>215</td>\n      <td>4312</td>\n      <td>8.5</td>\n      <td>70</td>\n      <td>1</td>\n      <td>plymouth fury iii</td>\n    </tr>\n    <tr>\n      <th>8</th>\n      <td>14.0</td>\n      <td>8</td>\n      <td>455.0</td>\n      <td>225</td>\n      <td>4425</td>\n      <td>10.0</td>\n      <td>70</td>\n      <td>1</td>\n      <td>pontiac catalina</td>\n    </tr>\n    <tr>\n      <th>9</th>\n      <td>15.0</td>\n      <td>8</td>\n      <td>390.0</td>\n      <td>190</td>\n      <td>3850</td>\n      <td>8.5</td>\n      <td>70</td>\n      <td>1</td>\n      <td>amc ambassador dpl</td>\n    </tr>\n  </tbody>\n</table>\n</div>"
     },
     "execution_count": 5,
     "metadata": {},
     "output_type": "execute_result"
    }
   ],
   "source": [
    "# Read Data\n",
    "data = pd.read_csv(\"auto-mpg.csv\")\n",
    "#Display top 10 rows\n",
    "data.head(10)"
   ],
   "metadata": {
    "collapsed": false
   }
  },
  {
   "cell_type": "code",
   "execution_count": 67,
   "metadata": {},
   "outputs": [],
   "source": [
    "ds = data.head(27).drop(['mpg', 'car name'], axis=1).fillna(0).to_numpy().reshape((-1, 7, 1))\n",
    "ds = np.hstack([ds, np.zeros((ds.shape[0], 1,1))]).astype(np.float32)"
   ]
  },
  {
   "cell_type": "code",
   "execution_count": 68,
   "outputs": [
    {
     "data": {
      "text/plain": "(27, 8, 1)"
     },
     "execution_count": 68,
     "metadata": {},
     "output_type": "execute_result"
    }
   ],
   "source": [
    "ds.shape"
   ],
   "metadata": {
    "collapsed": false
   }
  },
  {
   "cell_type": "code",
   "execution_count": 49,
   "outputs": [
    {
     "name": "stdout",
     "output_type": "stream",
     "text": [
      "Model: \"sequential_14\"\n",
      "_________________________________________________________________\n",
      "Layer (type)                 Output Shape              Param #   \n",
      "=================================================================\n",
      "conv1d_33 (Conv1D)           (None, 8, 3)              12        \n",
      "_________________________________________________________________\n",
      "max_pooling1d_12 (MaxPooling (None, 4, 3)              0         \n",
      "_________________________________________________________________\n",
      "conv1d_34 (Conv1D)           (None, 4, 3)              30        \n",
      "_________________________________________________________________\n",
      "max_pooling1d_13 (MaxPooling (None, 2, 3)              0         \n",
      "_________________________________________________________________\n",
      "conv1d_35 (Conv1D)           (None, 2, 3)              30        \n",
      "_________________________________________________________________\n",
      "max_pooling1d_14 (MaxPooling (None, 1, 3)              0         \n",
      "_________________________________________________________________\n",
      "conv1d_36 (Conv1D)           (None, 1, 1)              10        \n",
      "=================================================================\n",
      "Total params: 82\n",
      "Trainable params: 82\n",
      "Non-trainable params: 0\n",
      "_________________________________________________________________\n"
     ]
    }
   ],
   "source": [
    "enc = models.Sequential([\n",
    "    layers.InputLayer((8, 1)),\n",
    "    layers.Conv1D(filters=3, kernel_size=3, padding='same'),\n",
    "    layers.MaxPool1D(pool_size=2),\n",
    "    layers.Conv1D(filters=3, kernel_size=3, padding='same'),\n",
    "    layers.MaxPool1D(pool_size=2),\n",
    "    layers.Conv1D(filters=3, kernel_size=3, padding='same'),\n",
    "    layers.MaxPool1D(pool_size=2),\n",
    "    layers.Conv1D(filters=1, kernel_size=3, padding='same'),\n",
    "])\n",
    "enc.summary()"
   ],
   "metadata": {
    "collapsed": false
   }
  },
  {
   "cell_type": "code",
   "execution_count": 50,
   "outputs": [
    {
     "name": "stdout",
     "output_type": "stream",
     "text": [
      "Model: \"sequential_15\"\n",
      "_________________________________________________________________\n",
      "Layer (type)                 Output Shape              Param #   \n",
      "=================================================================\n",
      "conv1d_37 (Conv1D)           (None, 1, 3)              12        \n",
      "_________________________________________________________________\n",
      "up_sampling1d_12 (UpSampling (None, 2, 3)              0         \n",
      "_________________________________________________________________\n",
      "conv1d_38 (Conv1D)           (None, 2, 3)              30        \n",
      "_________________________________________________________________\n",
      "up_sampling1d_13 (UpSampling (None, 4, 3)              0         \n",
      "_________________________________________________________________\n",
      "conv1d_39 (Conv1D)           (None, 4, 3)              30        \n",
      "_________________________________________________________________\n",
      "up_sampling1d_14 (UpSampling (None, 8, 3)              0         \n",
      "_________________________________________________________________\n",
      "conv1d_40 (Conv1D)           (None, 8, 1)              10        \n",
      "=================================================================\n",
      "Total params: 82\n",
      "Trainable params: 82\n",
      "Non-trainable params: 0\n",
      "_________________________________________________________________\n"
     ]
    }
   ],
   "source": [
    "dec = models.Sequential([\n",
    "    layers.InputLayer((1, 1)),\n",
    "    layers.Conv1D(filters=3, kernel_size=3, padding='same'),\n",
    "    layers.UpSampling1D(size=2),\n",
    "    layers.Conv1D(filters=3, kernel_size=3, padding='same'),\n",
    "    layers.UpSampling1D(size=2),\n",
    "    layers.Conv1D(filters=3, kernel_size=3, padding='same'),\n",
    "    layers.UpSampling1D(size=2),\n",
    "    layers.Conv1D(filters=1, kernel_size=3, padding='same'),\n",
    "])\n",
    "dec.summary()"
   ],
   "metadata": {
    "collapsed": false
   }
  },
  {
   "cell_type": "code",
   "execution_count": 58,
   "outputs": [],
   "source": [
    "model = models.Sequential([\n",
    "    layers.InputLayer((8, 1)),\n",
    "    enc,\n",
    "    dec\n",
    "])\n",
    "model.compile(\n",
    "    optimizer=optimizers.rmsprop_v2.RMSprop(learning_rate=0.001),\n",
    "    loss=losses.MeanSquaredError,\n",
    "    metrics=['accuracy']\n",
    ")"
   ],
   "metadata": {
    "collapsed": false
   }
  },
  {
   "cell_type": "code",
   "execution_count": 71,
   "outputs": [
    {
     "name": "stdout",
     "output_type": "stream",
     "text": [
      "Epoch 1/10\n"
     ]
    },
    {
     "ename": "TypeError",
     "evalue": "in user code:\n\n\n    TypeError: Expected float32 passed to parameter 'y' of op 'Equal', got 'auto' of type 'str' instead. Error: Expected float32, but got auto of type 'str'.\n",
     "output_type": "error",
     "traceback": [
      "\u001B[0;31m---------------------------------------------------------------------------\u001B[0m",
      "\u001B[0;31mTypeError\u001B[0m                                 Traceback (most recent call last)",
      "Cell \u001B[0;32mIn[71], line 1\u001B[0m\n\u001B[0;32m----> 1\u001B[0m h \u001B[38;5;241m=\u001B[39m \u001B[43mmodel\u001B[49m\u001B[38;5;241;43m.\u001B[39;49m\u001B[43mfit\u001B[49m\u001B[43m(\u001B[49m\n\u001B[1;32m      2\u001B[0m \u001B[43m    \u001B[49m\u001B[43mx\u001B[49m\u001B[38;5;241;43m=\u001B[39;49m\u001B[43mds\u001B[49m\u001B[43m,\u001B[49m\u001B[43m \u001B[49m\u001B[43my\u001B[49m\u001B[38;5;241;43m=\u001B[39;49m\u001B[43mds\u001B[49m\u001B[43m,\u001B[49m\n\u001B[1;32m      3\u001B[0m \u001B[43m    \u001B[49m\u001B[43mepochs\u001B[49m\u001B[38;5;241;43m=\u001B[39;49m\u001B[38;5;241;43m10\u001B[39;49m\n\u001B[1;32m      4\u001B[0m \u001B[43m)\u001B[49m\n",
      "File \u001B[0;32m~/opt/anaconda3/envs/pyten/lib/python3.10/site-packages/tensorflow/python/keras/engine/training.py:1187\u001B[0m, in \u001B[0;36mModel.fit\u001B[0;34m(self, x, y, batch_size, epochs, verbose, callbacks, validation_split, validation_data, shuffle, class_weight, sample_weight, initial_epoch, steps_per_epoch, validation_steps, validation_batch_size, validation_freq, max_queue_size, workers, use_multiprocessing)\u001B[0m\n\u001B[1;32m   1180\u001B[0m \u001B[38;5;28;01mwith\u001B[39;00m trace\u001B[38;5;241m.\u001B[39mTrace(\n\u001B[1;32m   1181\u001B[0m     \u001B[38;5;124m'\u001B[39m\u001B[38;5;124mtrain\u001B[39m\u001B[38;5;124m'\u001B[39m,\n\u001B[1;32m   1182\u001B[0m     epoch_num\u001B[38;5;241m=\u001B[39mepoch,\n\u001B[1;32m   1183\u001B[0m     step_num\u001B[38;5;241m=\u001B[39mstep,\n\u001B[1;32m   1184\u001B[0m     batch_size\u001B[38;5;241m=\u001B[39mbatch_size,\n\u001B[1;32m   1185\u001B[0m     _r\u001B[38;5;241m=\u001B[39m\u001B[38;5;241m1\u001B[39m):\n\u001B[1;32m   1186\u001B[0m   callbacks\u001B[38;5;241m.\u001B[39mon_train_batch_begin(step)\n\u001B[0;32m-> 1187\u001B[0m   tmp_logs \u001B[38;5;241m=\u001B[39m \u001B[38;5;28;43mself\u001B[39;49m\u001B[38;5;241;43m.\u001B[39;49m\u001B[43mtrain_function\u001B[49m\u001B[43m(\u001B[49m\u001B[43miterator\u001B[49m\u001B[43m)\u001B[49m\n\u001B[1;32m   1188\u001B[0m   \u001B[38;5;28;01mif\u001B[39;00m data_handler\u001B[38;5;241m.\u001B[39mshould_sync:\n\u001B[1;32m   1189\u001B[0m     context\u001B[38;5;241m.\u001B[39masync_wait()\n",
      "File \u001B[0;32m~/opt/anaconda3/envs/pyten/lib/python3.10/site-packages/tensorflow/python/util/traceback_utils.py:153\u001B[0m, in \u001B[0;36mfilter_traceback.<locals>.error_handler\u001B[0;34m(*args, **kwargs)\u001B[0m\n\u001B[1;32m    151\u001B[0m \u001B[38;5;28;01mexcept\u001B[39;00m \u001B[38;5;167;01mException\u001B[39;00m \u001B[38;5;28;01mas\u001B[39;00m e:\n\u001B[1;32m    152\u001B[0m   filtered_tb \u001B[38;5;241m=\u001B[39m _process_traceback_frames(e\u001B[38;5;241m.\u001B[39m__traceback__)\n\u001B[0;32m--> 153\u001B[0m   \u001B[38;5;28;01mraise\u001B[39;00m e\u001B[38;5;241m.\u001B[39mwith_traceback(filtered_tb) \u001B[38;5;28;01mfrom\u001B[39;00m \u001B[38;5;28mNone\u001B[39m\n\u001B[1;32m    154\u001B[0m \u001B[38;5;28;01mfinally\u001B[39;00m:\n\u001B[1;32m    155\u001B[0m   \u001B[38;5;28;01mdel\u001B[39;00m filtered_tb\n",
      "File \u001B[0;32m/var/folders/1t/x38qzq7x34x14z_lfn5fvy4r0000gn/T/__autograph_generated_file8z434h7g.py:15\u001B[0m, in \u001B[0;36mouter_factory.<locals>.inner_factory.<locals>.tf__train_function\u001B[0;34m(iterator)\u001B[0m\n\u001B[1;32m     13\u001B[0m \u001B[38;5;28;01mtry\u001B[39;00m:\n\u001B[1;32m     14\u001B[0m     do_return \u001B[38;5;241m=\u001B[39m \u001B[38;5;28;01mTrue\u001B[39;00m\n\u001B[0;32m---> 15\u001B[0m     retval_ \u001B[38;5;241m=\u001B[39m ag__\u001B[38;5;241m.\u001B[39mconverted_call(ag__\u001B[38;5;241m.\u001B[39mld(step_function), (ag__\u001B[38;5;241m.\u001B[39mld(\u001B[38;5;28mself\u001B[39m), ag__\u001B[38;5;241m.\u001B[39mld(iterator)), \u001B[38;5;28;01mNone\u001B[39;00m, fscope)\n\u001B[1;32m     16\u001B[0m \u001B[38;5;28;01mexcept\u001B[39;00m:\n\u001B[1;32m     17\u001B[0m     do_return \u001B[38;5;241m=\u001B[39m \u001B[38;5;28;01mFalse\u001B[39;00m\n",
      "\u001B[0;31mTypeError\u001B[0m: in user code:\n\n\n    TypeError: Expected float32 passed to parameter 'y' of op 'Equal', got 'auto' of type 'str' instead. Error: Expected float32, but got auto of type 'str'.\n"
     ]
    }
   ],
   "source": [
    "h = model.fit(\n",
    "    x=ds, y=ds,\n",
    "    epochs=10\n",
    ")"
   ],
   "metadata": {
    "collapsed": false
   }
  },
  {
   "cell_type": "code",
   "execution_count": 65,
   "outputs": [
    {
     "data": {
      "text/plain": "[numpy.float32,\n numpy.float32,\n numpy.float32,\n numpy.float32,\n numpy.float32,\n numpy.float32,\n numpy.float32,\n numpy.float32]"
     },
     "execution_count": 65,
     "metadata": {},
     "output_type": "execute_result"
    }
   ],
   "source": [
    "[type(ds[1][x][0]) for x in range(8)]"
   ],
   "metadata": {
    "collapsed": false
   }
  },
  {
   "cell_type": "code",
   "execution_count": 66,
   "outputs": [
    {
     "data": {
      "text/plain": "array([[[8.000e+00],\n        [3.070e+02],\n        [1.300e+02],\n        [3.504e+03],\n        [1.200e+01],\n        [7.000e+01],\n        [1.000e+00],\n        [0.000e+00]],\n\n       [[8.000e+00],\n        [3.500e+02],\n        [1.650e+02],\n        [3.693e+03],\n        [1.150e+01],\n        [7.000e+01],\n        [1.000e+00],\n        [0.000e+00]],\n\n       [[8.000e+00],\n        [3.180e+02],\n        [1.500e+02],\n        [3.436e+03],\n        [1.100e+01],\n        [7.000e+01],\n        [1.000e+00],\n        [0.000e+00]],\n\n       [[8.000e+00],\n        [3.040e+02],\n        [1.500e+02],\n        [3.433e+03],\n        [1.200e+01],\n        [7.000e+01],\n        [1.000e+00],\n        [0.000e+00]],\n\n       [[8.000e+00],\n        [3.020e+02],\n        [1.400e+02],\n        [3.449e+03],\n        [1.050e+01],\n        [7.000e+01],\n        [1.000e+00],\n        [0.000e+00]],\n\n       [[8.000e+00],\n        [4.290e+02],\n        [1.980e+02],\n        [4.341e+03],\n        [1.000e+01],\n        [7.000e+01],\n        [1.000e+00],\n        [0.000e+00]],\n\n       [[8.000e+00],\n        [4.540e+02],\n        [2.200e+02],\n        [4.354e+03],\n        [9.000e+00],\n        [7.000e+01],\n        [1.000e+00],\n        [0.000e+00]],\n\n       [[8.000e+00],\n        [4.400e+02],\n        [2.150e+02],\n        [4.312e+03],\n        [8.500e+00],\n        [7.000e+01],\n        [1.000e+00],\n        [0.000e+00]],\n\n       [[8.000e+00],\n        [4.550e+02],\n        [2.250e+02],\n        [4.425e+03],\n        [1.000e+01],\n        [7.000e+01],\n        [1.000e+00],\n        [0.000e+00]],\n\n       [[8.000e+00],\n        [3.900e+02],\n        [1.900e+02],\n        [3.850e+03],\n        [8.500e+00],\n        [7.000e+01],\n        [1.000e+00],\n        [0.000e+00]],\n\n       [[8.000e+00],\n        [3.830e+02],\n        [1.700e+02],\n        [3.563e+03],\n        [1.000e+01],\n        [7.000e+01],\n        [1.000e+00],\n        [0.000e+00]],\n\n       [[8.000e+00],\n        [3.400e+02],\n        [1.600e+02],\n        [3.609e+03],\n        [8.000e+00],\n        [7.000e+01],\n        [1.000e+00],\n        [0.000e+00]],\n\n       [[8.000e+00],\n        [4.000e+02],\n        [1.500e+02],\n        [3.761e+03],\n        [9.500e+00],\n        [7.000e+01],\n        [1.000e+00],\n        [0.000e+00]],\n\n       [[8.000e+00],\n        [4.550e+02],\n        [2.250e+02],\n        [3.086e+03],\n        [1.000e+01],\n        [7.000e+01],\n        [1.000e+00],\n        [0.000e+00]],\n\n       [[4.000e+00],\n        [1.130e+02],\n        [9.500e+01],\n        [2.372e+03],\n        [1.500e+01],\n        [7.000e+01],\n        [3.000e+00],\n        [0.000e+00]],\n\n       [[6.000e+00],\n        [1.980e+02],\n        [9.500e+01],\n        [2.833e+03],\n        [1.550e+01],\n        [7.000e+01],\n        [1.000e+00],\n        [0.000e+00]],\n\n       [[6.000e+00],\n        [1.990e+02],\n        [9.700e+01],\n        [2.774e+03],\n        [1.550e+01],\n        [7.000e+01],\n        [1.000e+00],\n        [0.000e+00]],\n\n       [[6.000e+00],\n        [2.000e+02],\n        [8.500e+01],\n        [2.587e+03],\n        [1.600e+01],\n        [7.000e+01],\n        [1.000e+00],\n        [0.000e+00]],\n\n       [[4.000e+00],\n        [9.700e+01],\n        [8.800e+01],\n        [2.130e+03],\n        [1.450e+01],\n        [7.000e+01],\n        [3.000e+00],\n        [0.000e+00]],\n\n       [[4.000e+00],\n        [9.700e+01],\n        [4.600e+01],\n        [1.835e+03],\n        [2.050e+01],\n        [7.000e+01],\n        [2.000e+00],\n        [0.000e+00]],\n\n       [[4.000e+00],\n        [1.100e+02],\n        [8.700e+01],\n        [2.672e+03],\n        [1.750e+01],\n        [7.000e+01],\n        [2.000e+00],\n        [0.000e+00]],\n\n       [[4.000e+00],\n        [1.070e+02],\n        [9.000e+01],\n        [2.430e+03],\n        [1.450e+01],\n        [7.000e+01],\n        [2.000e+00],\n        [0.000e+00]],\n\n       [[4.000e+00],\n        [1.040e+02],\n        [9.500e+01],\n        [2.375e+03],\n        [1.750e+01],\n        [7.000e+01],\n        [2.000e+00],\n        [0.000e+00]],\n\n       [[4.000e+00],\n        [1.210e+02],\n        [1.130e+02],\n        [2.234e+03],\n        [1.250e+01],\n        [7.000e+01],\n        [2.000e+00],\n        [0.000e+00]],\n\n       [[6.000e+00],\n        [1.990e+02],\n        [9.000e+01],\n        [2.648e+03],\n        [1.500e+01],\n        [7.000e+01],\n        [1.000e+00],\n        [0.000e+00]],\n\n       [[8.000e+00],\n        [3.600e+02],\n        [2.150e+02],\n        [4.615e+03],\n        [1.400e+01],\n        [7.000e+01],\n        [1.000e+00],\n        [0.000e+00]],\n\n       [[8.000e+00],\n        [3.070e+02],\n        [2.000e+02],\n        [4.376e+03],\n        [1.500e+01],\n        [7.000e+01],\n        [1.000e+00],\n        [0.000e+00]]], dtype=float32)"
     },
     "execution_count": 66,
     "metadata": {},
     "output_type": "execute_result"
    }
   ],
   "source": [
    "ds"
   ],
   "metadata": {
    "collapsed": false
   }
  },
  {
   "cell_type": "code",
   "execution_count": null,
   "outputs": [],
   "source": [],
   "metadata": {
    "collapsed": false
   }
  }
 ],
 "metadata": {
  "kernelspec": {
   "display_name": "Python 3 (ipykernel)",
   "language": "python",
   "name": "python3"
  },
  "language_info": {
   "codemirror_mode": {
    "name": "ipython",
    "version": 3
   },
   "file_extension": ".py",
   "mimetype": "text/x-python",
   "name": "python",
   "nbconvert_exporter": "python",
   "pygments_lexer": "ipython3",
   "version": "3.9.13"
  }
 },
 "nbformat": 4,
 "nbformat_minor": 1
}
